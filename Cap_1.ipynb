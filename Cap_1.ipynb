{
  "nbformat": 4,
  "nbformat_minor": 0,
  "metadata": {
    "colab": {
      "provenance": [],
      "collapsed_sections": [
        "XMY3OmsuSVvR"
      ],
      "authorship_tag": "ABX9TyPLD/RgMap76wq+mJcLTiTG",
      "include_colab_link": true
    },
    "kernelspec": {
      "name": "python3",
      "display_name": "Python 3"
    },
    "language_info": {
      "name": "python"
    }
  },
  "cells": [
    {
      "cell_type": "markdown",
      "metadata": {
        "id": "view-in-github",
        "colab_type": "text"
      },
      "source": [
        "<a href=\"https://colab.research.google.com/github/Carol-Coutinho/Engenharia-de-Reservatorio-de-Petroleo/blob/main/Cap_1.ipynb\" target=\"_parent\"><img src=\"https://colab.research.google.com/assets/colab-badge.svg\" alt=\"Open In Colab\"/></a>"
      ]
    },
    {
      "cell_type": "markdown",
      "source": [
        "# Bloco de exemplos e exercícios - Capítulo 1\n",
        "\n",
        "## Engenharia de Reservatório de Petróleo\n",
        "\n",
        "Caroline Coutinho - Trainee E&P\n",
        "\n",
        "Jeruza Barbosa - Trainee E&P \n",
        "\n",
        "Eneva "
      ],
      "metadata": {
        "id": "pibRyISVyTU6"
      }
    },
    {
      "cell_type": "markdown",
      "source": [
        "### Exemplo 1.1: \n",
        "\n",
        "Qual o volume ocupado por um mol-lb de um gás ideal quando submetido a uma pressão de 100 pisa e uma temperatura de 90ºF? "
      ],
      "metadata": {
        "id": "49TG1iWJ8dm2"
      }
    },
    {
      "cell_type": "markdown",
      "source": [
        "Nesse caso utilizamos a equação de gases ideais definida como: \n",
        "\n",
        "$$ pV  = nRT$$\n",
        "\n",
        "Rearrnajando:\n",
        "\n",
        "$$ V  = \\frac{nRT}{p}$$\n",
        "\n",
        "Observe que para esse caso a constante universal dos gases que se enquadra melhor com os dados será:  $$ 10.73\\ \\frac{psi \\cdot ft^3}{mol-lb \\cdot R}$$\n",
        "\n",
        "Onde R = Temperatura absoluta no sistema americano (Rankine). "
      ],
      "metadata": {
        "id": "533HMTpA8-AU"
      }
    },
    {
      "cell_type": "code",
      "source": [
        "# Preparando o Kernel\n",
        "import pandas as pd\n",
        "import numpy as np"
      ],
      "metadata": {
        "id": "qpDOabWRDzrS"
      },
      "execution_count": null,
      "outputs": []
    },
    {
      "cell_type": "code",
      "source": [
        "#Criando um dataframe com os valores disponpiveis de constante universal de gases ideais:\n",
        "\n",
        "lst1 = [\"psi.ft^3/mol-lb.R\",\"lbf.ft/mol-lb.R\",\"atm.cm3/mol-g.K\", \"cal/mol-g.K\", \"(kgf/cm2).m3/mol-kg.K\"]\n",
        "lst2 = [10.73,1545,82.05, 1.987, 0.08478]\n",
        "R_cte = pd.DataFrame(list(zip(lst1,lst2)), columns = ['Unit','Value'])\n",
        "print(R_cte)"
      ],
      "metadata": {
        "colab": {
          "base_uri": "https://localhost:8080/"
        },
        "id": "ks3lY8e7D_yY",
        "outputId": "a03220b4-6b0d-46e6-a54a-e9d9d4d9d777"
      },
      "execution_count": null,
      "outputs": [
        {
          "output_type": "stream",
          "name": "stdout",
          "text": [
            "                    Unit       Value\n",
            "0      psi.ft^3/mol-lb.R    10.73000\n",
            "1        lbf.ft/mol-lb.R  1545.00000\n",
            "2        atm.cm3/mol-g.K    82.05000\n",
            "3            cal/mol-g.K     1.98700\n",
            "4  (kgf/cm2).m3/mol-kg.K     0.08478\n"
          ]
        }
      ]
    },
    {
      "cell_type": "code",
      "source": [
        "# Puxando o primeiro valor de constante do dataframe criado: \n",
        "\n",
        "print(R_cte.iloc[0][1])"
      ],
      "metadata": {
        "colab": {
          "base_uri": "https://localhost:8080/"
        },
        "id": "xgtlpWj5GO_l",
        "outputId": "cda49717-ea83-415c-efbd-b325932e967e"
      },
      "execution_count": null,
      "outputs": [
        {
          "output_type": "stream",
          "name": "stdout",
          "text": [
            "10.73\n"
          ]
        }
      ]
    },
    {
      "cell_type": "markdown",
      "source": [
        "Observe que nesse caso teremos que fazer uma conversão na temperatura de ºF para Rankine. \n",
        "\n",
        "Essa conversão é dada por: \n",
        "\n",
        "$$T_R = T_F + 459.67 $$"
      ],
      "metadata": {
        "id": "mi2PXFkTHf-E"
      }
    },
    {
      "cell_type": "code",
      "source": [
        "# Criando uma função de conversão: \n",
        "\n",
        "def Con_F_R (T_f):\n",
        "  'Função de Conversão de Temperatura em Fahrenheit para Rankine'\n",
        "  T_R = T_f + 459.67\n",
        "  return(T_R)"
      ],
      "metadata": {
        "id": "yRNZ--qdIPIE"
      },
      "execution_count": null,
      "outputs": []
    },
    {
      "cell_type": "code",
      "source": [
        "# Testando a função:\n",
        "\n",
        "print(Con_F_R(90))"
      ],
      "metadata": {
        "colab": {
          "base_uri": "https://localhost:8080/"
        },
        "id": "odPljtEPI_4j",
        "outputId": "78e99150-3e55-440f-b94b-dc3d9b38ddba"
      },
      "execution_count": null,
      "outputs": [
        {
          "output_type": "stream",
          "name": "stdout",
          "text": [
            "549.6700000000001\n"
          ]
        }
      ]
    },
    {
      "cell_type": "markdown",
      "source": [
        "Setando os dados do problema: "
      ],
      "metadata": {
        "id": "WAS5KMQMJePU"
      }
    },
    {
      "cell_type": "code",
      "source": [
        "P = 100.0 # pisa\n",
        "Temp = 90 # ºF\n",
        "n = 1 # mol\n",
        "R = R_cte.iloc[0][1]"
      ],
      "metadata": {
        "id": "aDbBW3XyJjRA"
      },
      "execution_count": null,
      "outputs": []
    },
    {
      "cell_type": "code",
      "source": [
        "Resul = (n*R*Con_F_R(Temp))/P\n",
        "print(\"O volume encontrado é (ft3): \", Resul)"
      ],
      "metadata": {
        "colab": {
          "base_uri": "https://localhost:8080/"
        },
        "id": "31oVK43AOqEg",
        "outputId": "2da08934-eb08-4cad-90ec-5c0dc19d7ef5"
      },
      "execution_count": null,
      "outputs": [
        {
          "output_type": "stream",
          "name": "stdout",
          "text": [
            "O volume encontrado é (ft3):  58.979591000000006\n"
          ]
        }
      ]
    },
    {
      "cell_type": "markdown",
      "source": [
        "O resultado do livro é 59.015 $ft^3$ devido a uma aproximação na conversão da temperatura. No caso, eles somaram 460.0 ao valor da temperatura original e não 459.67. "
      ],
      "metadata": {
        "id": "5l0RxcIJPMgN"
      }
    },
    {
      "cell_type": "markdown",
      "source": [
        "### Exemplo 1.2\n",
        "\n",
        "Uma mistura de gases ideais que está sujeita a uma pressão de 750 pisa a uma temperatura de 100ºF tem a composição da tabela 1.1:\n",
        "\n",
        "|Componente|Fração Molar|\n",
        "|:----------:|:---------:|\n",
        "|Metano|0.85| \n",
        "|Etano|0.10| \n",
        "|Propano|0.05| \n",
        "\n",
        "a) Qual a pressão exercida pelo etano?\n",
        "\n",
        "b) Qual o volume parcial do metano supondo 1 mol da mistura? "
      ],
      "metadata": {
        "id": "XMY3OmsuSVvR"
      }
    },
    {
      "cell_type": "markdown",
      "source": [
        "**Resolução letra (a):**\n",
        "\n",
        "Temos que:\n",
        "\n",
        "$$p_i = y_i \\cdot p$$"
      ],
      "metadata": {
        "id": "mq6orjCoWFj7"
      }
    },
    {
      "cell_type": "code",
      "source": [
        "y_et = 0.10\n",
        "p_tot = 750 # pisa"
      ],
      "metadata": {
        "id": "LjTTGoqlW8EO"
      },
      "execution_count": null,
      "outputs": []
    },
    {
      "cell_type": "code",
      "source": [
        "def p_parcial (y,p):\n",
        "  'Função que retorna a pressão parcial'\n",
        "  p_i = y*p\n",
        "  return(p_i)\n",
        "  "
      ],
      "metadata": {
        "id": "8QRU5DHOXJlp"
      },
      "execution_count": null,
      "outputs": []
    },
    {
      "cell_type": "code",
      "source": [
        "p_et = p_parcial(y_et, p_tot)\n",
        "print(\"A pressão parcial do etanol em pisa é: \", p_et)"
      ],
      "metadata": {
        "colab": {
          "base_uri": "https://localhost:8080/"
        },
        "id": "QlsCsItDXc_N",
        "outputId": "153dbca5-e818-4c95-f216-4bdc0591b8ae"
      },
      "execution_count": null,
      "outputs": [
        {
          "output_type": "stream",
          "name": "stdout",
          "text": [
            "A pressão parcial do etanol em pisa é:  75.0\n"
          ]
        }
      ]
    },
    {
      "cell_type": "markdown",
      "source": [
        "**Resolução letra (b):**\n",
        "\n",
        "Temos que:\n",
        "\n",
        "$$V_{i} = \\frac{n_i \\cdot RT}{p} $$\n",
        "\n",
        "e que:\n",
        "\n",
        "$$ n_i = y_i \\cdot n $$"
      ],
      "metadata": {
        "id": "xAPhbfkLXtMP"
      }
    },
    {
      "cell_type": "code",
      "source": [
        "n = 1 # mol\n",
        "Temp_2 = 100 #°F\n",
        "y_met = 0.85\n"
      ],
      "metadata": {
        "id": "_4QUdntkYndu"
      },
      "execution_count": null,
      "outputs": []
    },
    {
      "cell_type": "code",
      "source": [
        "# Número de mols de metano na mistura:\n",
        "\n",
        "n_met = y_met*n"
      ],
      "metadata": {
        "id": "Wv7O-KFYQM2E"
      },
      "execution_count": null,
      "outputs": []
    },
    {
      "cell_type": "code",
      "source": [
        "R_cte"
      ],
      "metadata": {
        "colab": {
          "base_uri": "https://localhost:8080/",
          "height": 206
        },
        "id": "thWEDIJyOsgB",
        "outputId": "511f1955-af73-47d5-b419-8b8e911c8807"
      },
      "execution_count": null,
      "outputs": [
        {
          "output_type": "execute_result",
          "data": {
            "text/plain": [
              "                    Unit       Value\n",
              "0      psi.ft^3/mol-lb.R    10.73000\n",
              "1        lbf.ft/mol-lb.R  1545.00000\n",
              "2        atm.cm3/mol-g.K    82.05000\n",
              "3            cal/mol-g.K     1.98700\n",
              "4  (kgf/cm2).m3/mol-kg.K     0.08478"
            ],
            "text/html": [
              "\n",
              "  <div id=\"df-5eb9eb17-d394-4398-85f3-f9a54a9fbdd7\">\n",
              "    <div class=\"colab-df-container\">\n",
              "      <div>\n",
              "<style scoped>\n",
              "    .dataframe tbody tr th:only-of-type {\n",
              "        vertical-align: middle;\n",
              "    }\n",
              "\n",
              "    .dataframe tbody tr th {\n",
              "        vertical-align: top;\n",
              "    }\n",
              "\n",
              "    .dataframe thead th {\n",
              "        text-align: right;\n",
              "    }\n",
              "</style>\n",
              "<table border=\"1\" class=\"dataframe\">\n",
              "  <thead>\n",
              "    <tr style=\"text-align: right;\">\n",
              "      <th></th>\n",
              "      <th>Unit</th>\n",
              "      <th>Value</th>\n",
              "    </tr>\n",
              "  </thead>\n",
              "  <tbody>\n",
              "    <tr>\n",
              "      <th>0</th>\n",
              "      <td>psi.ft^3/mol-lb.R</td>\n",
              "      <td>10.73000</td>\n",
              "    </tr>\n",
              "    <tr>\n",
              "      <th>1</th>\n",
              "      <td>lbf.ft/mol-lb.R</td>\n",
              "      <td>1545.00000</td>\n",
              "    </tr>\n",
              "    <tr>\n",
              "      <th>2</th>\n",
              "      <td>atm.cm3/mol-g.K</td>\n",
              "      <td>82.05000</td>\n",
              "    </tr>\n",
              "    <tr>\n",
              "      <th>3</th>\n",
              "      <td>cal/mol-g.K</td>\n",
              "      <td>1.98700</td>\n",
              "    </tr>\n",
              "    <tr>\n",
              "      <th>4</th>\n",
              "      <td>(kgf/cm2).m3/mol-kg.K</td>\n",
              "      <td>0.08478</td>\n",
              "    </tr>\n",
              "  </tbody>\n",
              "</table>\n",
              "</div>\n",
              "      <button class=\"colab-df-convert\" onclick=\"convertToInteractive('df-5eb9eb17-d394-4398-85f3-f9a54a9fbdd7')\"\n",
              "              title=\"Convert this dataframe to an interactive table.\"\n",
              "              style=\"display:none;\">\n",
              "        \n",
              "  <svg xmlns=\"http://www.w3.org/2000/svg\" height=\"24px\"viewBox=\"0 0 24 24\"\n",
              "       width=\"24px\">\n",
              "    <path d=\"M0 0h24v24H0V0z\" fill=\"none\"/>\n",
              "    <path d=\"M18.56 5.44l.94 2.06.94-2.06 2.06-.94-2.06-.94-.94-2.06-.94 2.06-2.06.94zm-11 1L8.5 8.5l.94-2.06 2.06-.94-2.06-.94L8.5 2.5l-.94 2.06-2.06.94zm10 10l.94 2.06.94-2.06 2.06-.94-2.06-.94-.94-2.06-.94 2.06-2.06.94z\"/><path d=\"M17.41 7.96l-1.37-1.37c-.4-.4-.92-.59-1.43-.59-.52 0-1.04.2-1.43.59L10.3 9.45l-7.72 7.72c-.78.78-.78 2.05 0 2.83L4 21.41c.39.39.9.59 1.41.59.51 0 1.02-.2 1.41-.59l7.78-7.78 2.81-2.81c.8-.78.8-2.07 0-2.86zM5.41 20L4 18.59l7.72-7.72 1.47 1.35L5.41 20z\"/>\n",
              "  </svg>\n",
              "      </button>\n",
              "      \n",
              "  <style>\n",
              "    .colab-df-container {\n",
              "      display:flex;\n",
              "      flex-wrap:wrap;\n",
              "      gap: 12px;\n",
              "    }\n",
              "\n",
              "    .colab-df-convert {\n",
              "      background-color: #E8F0FE;\n",
              "      border: none;\n",
              "      border-radius: 50%;\n",
              "      cursor: pointer;\n",
              "      display: none;\n",
              "      fill: #1967D2;\n",
              "      height: 32px;\n",
              "      padding: 0 0 0 0;\n",
              "      width: 32px;\n",
              "    }\n",
              "\n",
              "    .colab-df-convert:hover {\n",
              "      background-color: #E2EBFA;\n",
              "      box-shadow: 0px 1px 2px rgba(60, 64, 67, 0.3), 0px 1px 3px 1px rgba(60, 64, 67, 0.15);\n",
              "      fill: #174EA6;\n",
              "    }\n",
              "\n",
              "    [theme=dark] .colab-df-convert {\n",
              "      background-color: #3B4455;\n",
              "      fill: #D2E3FC;\n",
              "    }\n",
              "\n",
              "    [theme=dark] .colab-df-convert:hover {\n",
              "      background-color: #434B5C;\n",
              "      box-shadow: 0px 1px 3px 1px rgba(0, 0, 0, 0.15);\n",
              "      filter: drop-shadow(0px 1px 2px rgba(0, 0, 0, 0.3));\n",
              "      fill: #FFFFFF;\n",
              "    }\n",
              "  </style>\n",
              "\n",
              "      <script>\n",
              "        const buttonEl =\n",
              "          document.querySelector('#df-5eb9eb17-d394-4398-85f3-f9a54a9fbdd7 button.colab-df-convert');\n",
              "        buttonEl.style.display =\n",
              "          google.colab.kernel.accessAllowed ? 'block' : 'none';\n",
              "\n",
              "        async function convertToInteractive(key) {\n",
              "          const element = document.querySelector('#df-5eb9eb17-d394-4398-85f3-f9a54a9fbdd7');\n",
              "          const dataTable =\n",
              "            await google.colab.kernel.invokeFunction('convertToInteractive',\n",
              "                                                     [key], {});\n",
              "          if (!dataTable) return;\n",
              "\n",
              "          const docLinkHtml = 'Like what you see? Visit the ' +\n",
              "            '<a target=\"_blank\" href=https://colab.research.google.com/notebooks/data_table.ipynb>data table notebook</a>'\n",
              "            + ' to learn more about interactive tables.';\n",
              "          element.innerHTML = '';\n",
              "          dataTable['output_type'] = 'display_data';\n",
              "          await google.colab.output.renderOutput(dataTable, element);\n",
              "          const docLink = document.createElement('div');\n",
              "          docLink.innerHTML = docLinkHtml;\n",
              "          element.appendChild(docLink);\n",
              "        }\n",
              "      </script>\n",
              "    </div>\n",
              "  </div>\n",
              "  "
            ]
          },
          "metadata": {},
          "execution_count": 13
        }
      ]
    },
    {
      "cell_type": "code",
      "source": [
        "v_met = (n_met*R_cte.iloc[0][1]*Con_F_R(Temp_2))/p_tot\n"
      ],
      "metadata": {
        "id": "Miyxg4PDOdSo"
      },
      "execution_count": null,
      "outputs": []
    },
    {
      "cell_type": "code",
      "source": [
        "print(\"O volume parcial do metano é (ft3): \",v_met)"
      ],
      "metadata": {
        "colab": {
          "base_uri": "https://localhost:8080/"
        },
        "id": "qX-P-VxlPXKa",
        "outputId": "637d6860-f2b9-4935-b600-e36ac8a73911"
      },
      "execution_count": null,
      "outputs": [
        {
          "output_type": "stream",
          "name": "stdout",
          "text": [
            "O volume parcial do metano é (ft3):  6.805960313333334\n"
          ]
        }
      ]
    },
    {
      "cell_type": "markdown",
      "source": [],
      "metadata": {
        "id": "pUy8SuMAREPz"
      }
    },
    {
      "cell_type": "markdown",
      "source": [
        "### Exemplo 1.3 \n",
        "\n",
        "Calcular a massa de metano contida em um recipiente de 5 $ft^3$ a uma pressão de 700 pisa e a uma temperatura de 68°F. "
      ],
      "metadata": {
        "id": "-vqZR2KZRzrG"
      }
    },
    {
      "cell_type": "markdown",
      "source": [
        "Neste caso devemos observar que não se trata mais de um gás ideal. Para isso vamos introduzir na equação de estado o fator de compressibilidade Z. \n",
        "\n",
        "Temos que:\n",
        "\n",
        "$$ pV = ZnRT $$\n",
        "\n",
        "O fator de compressibilidade dos gases pode ser retirado de gráficos ou tabelas. "
      ],
      "metadata": {
        "id": "n6nEPvIgSXiO"
      }
    }
  ]
}