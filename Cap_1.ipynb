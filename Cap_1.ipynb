{
  "nbformat": 4,
  "nbformat_minor": 0,
  "metadata": {
    "colab": {
      "provenance": [],
      "authorship_tag": "ABX9TyOlNV1TNJj6i7YQm3gNwEtT",
      "include_colab_link": true
    },
    "kernelspec": {
      "name": "python3",
      "display_name": "Python 3"
    },
    "language_info": {
      "name": "python"
    }
  },
  "cells": [
    {
      "cell_type": "markdown",
      "metadata": {
        "id": "view-in-github",
        "colab_type": "text"
      },
      "source": [
        "<a href=\"https://colab.research.google.com/github/Carol-Coutinho/Engenharia-de-Reservatorio-de-Petroleo/blob/main/Cap_1.ipynb\" target=\"_parent\"><img src=\"https://colab.research.google.com/assets/colab-badge.svg\" alt=\"Open In Colab\"/></a>"
      ]
    },
    {
      "cell_type": "markdown",
      "source": [
        "# Bloco de exemplos e exercícios - Capítulo 1\n",
        "\n",
        "## Engenharia de Reservatório de Petróleo\n",
        "\n",
        "Caroline Coutinho - Trainee E&P\n",
        "\n",
        "Jeruza Barbosa - Trainee E&P \n",
        "\n",
        "Eneva "
      ],
      "metadata": {
        "id": "pibRyISVyTU6"
      }
    },
    {
      "cell_type": "markdown",
      "source": [
        "### Exemplo 1.1: \n",
        "\n",
        "Qual o volume ocupado por um mol-lb de um gás ideal quando submetido a uma pressão de 100 pisa e uma temperatura de 90ºF? "
      ],
      "metadata": {
        "id": "49TG1iWJ8dm2"
      }
    },
    {
      "cell_type": "markdown",
      "source": [
        "Nesse caso utilizamos a equação de gases ideais definida como: \n",
        "\n",
        "$$ pV  = nRT$$\n",
        "\n",
        "Rearrnajando:\n",
        "\n",
        "$$ V  = \\frac{nRT}{p}$$\n",
        "\n",
        "Observe que para esse caso a constante universal dos gases que se enquadra melhor com os dados será:  $$ 10.73\\ \\frac{psi \\cdot ft^3}{mol-lb \\cdot R}$$\n",
        "\n",
        "Onde R = Temperatura absoluta no sistema americano (Rankine). "
      ],
      "metadata": {
        "id": "533HMTpA8-AU"
      }
    },
    {
      "cell_type": "code",
      "source": [
        "# Preparando o Kernel\n",
        "import pandas as pd\n",
        "import numpy as np"
      ],
      "metadata": {
        "id": "qpDOabWRDzrS"
      },
      "execution_count": 14,
      "outputs": []
    },
    {
      "cell_type": "code",
      "source": [
        "#Criando um dataframe com os valores disponpiveis de constante universal de gases ideais:\n",
        "\n",
        "lst1 = [\"psi.ft^3/mol-lb.R\",\"lbf.ft/mol-lb.R\",\"atm.cm3/mol-g.K\", \"cal/mol-g.K\", \"(kgf/cm2).m3/mol-kg.K\"]\n",
        "lst2 = [10.73,1545,82.05, 1.987, 0.08478]\n",
        "R_cte = pd.DataFrame(list(zip(lst1,lst2)), columns = ['Unit','Value'])\n",
        "print(R_cte)"
      ],
      "metadata": {
        "colab": {
          "base_uri": "https://localhost:8080/"
        },
        "id": "ks3lY8e7D_yY",
        "outputId": "4d47d8da-3c7f-4570-f880-91827aaace4f"
      },
      "execution_count": 15,
      "outputs": [
        {
          "output_type": "stream",
          "name": "stdout",
          "text": [
            "                    Unit       Value\n",
            "0      psi.ft^3/mol-lb.R    10.73000\n",
            "1        lbf.ft/mol-lb.R  1545.00000\n",
            "2        atm.cm3/mol-g.K    82.05000\n",
            "3            cal/mol-g.K     1.98700\n",
            "4  (kgf/cm2).m3/mol-kg.K     0.08478\n"
          ]
        }
      ]
    },
    {
      "cell_type": "code",
      "source": [
        "# Puxando o primeiro valor de constante do dataframe criado: \n",
        "\n",
        "print(R_cte.iloc[0][1])"
      ],
      "metadata": {
        "colab": {
          "base_uri": "https://localhost:8080/"
        },
        "id": "xgtlpWj5GO_l",
        "outputId": "e86cfabc-3623-448e-9862-3c4880983a51"
      },
      "execution_count": 26,
      "outputs": [
        {
          "output_type": "stream",
          "name": "stdout",
          "text": [
            "10.73\n"
          ]
        }
      ]
    },
    {
      "cell_type": "markdown",
      "source": [
        "Observe que nesse caso teremos que fazer uma conversão na temperatura de ºF para Rankine. \n",
        "\n",
        "Essa conversão é dada por: \n",
        "\n",
        "$$T_R = T_F + 459.67 $$"
      ],
      "metadata": {
        "id": "mi2PXFkTHf-E"
      }
    },
    {
      "cell_type": "code",
      "source": [
        "# Criando uma função de conversão: \n",
        "\n",
        "def Con_F_R (T_f):\n",
        "  'Função de Conversão de Temperatura em Fahrenheit para Rankine'\n",
        "  T_R = T_f + 459.67\n",
        "  return(T_R)"
      ],
      "metadata": {
        "id": "yRNZ--qdIPIE"
      },
      "execution_count": 42,
      "outputs": []
    },
    {
      "cell_type": "code",
      "source": [
        "# Testando a função:\n",
        "\n",
        "print(Con_F_R(90))"
      ],
      "metadata": {
        "colab": {
          "base_uri": "https://localhost:8080/"
        },
        "id": "odPljtEPI_4j",
        "outputId": "c488ec18-0ff7-4f75-9f36-67d17afcecb6"
      },
      "execution_count": 43,
      "outputs": [
        {
          "output_type": "stream",
          "name": "stdout",
          "text": [
            "549.6700000000001\n"
          ]
        }
      ]
    },
    {
      "cell_type": "markdown",
      "source": [
        "Setando os dados do problema: "
      ],
      "metadata": {
        "id": "WAS5KMQMJePU"
      }
    },
    {
      "cell_type": "code",
      "source": [
        "P = 100.0 # pisa\n",
        "Temp = 90 # ºF\n",
        "n = 1 # mol\n",
        "R = R_cte.iloc[0][1]"
      ],
      "metadata": {
        "id": "aDbBW3XyJjRA"
      },
      "execution_count": 44,
      "outputs": []
    },
    {
      "cell_type": "code",
      "source": [
        "Resul = (n*R*Con_F_R(Temp))/P\n",
        "print(\"O volume encontrado é (ft3): \", Resul)"
      ],
      "metadata": {
        "colab": {
          "base_uri": "https://localhost:8080/"
        },
        "id": "31oVK43AOqEg",
        "outputId": "300850cc-76eb-4979-b2dc-cfad8835591a"
      },
      "execution_count": 45,
      "outputs": [
        {
          "output_type": "stream",
          "name": "stdout",
          "text": [
            "O volume encontrado é (ft3):  58.979591000000006\n"
          ]
        }
      ]
    },
    {
      "cell_type": "markdown",
      "source": [
        "O resultado do livro é 59.015 $ft^3$ devido a uma aproximação na conversão da temperatura. No caso, eles somaram 460.0 ao valor da temperatura original e não 459.67. "
      ],
      "metadata": {
        "id": "5l0RxcIJPMgN"
      }
    }
  ]
}